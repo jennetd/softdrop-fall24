{
 "cells": [
  {
   "cell_type": "code",
   "execution_count": 8,
   "id": "176b048a",
   "metadata": {},
   "outputs": [],
   "source": [
    "from coffea.nanoevents import NanoEventsFactory, PFNanoAODSchema\n",
    "import fastjet\n",
    "import awkward as ak"
   ]
  },
  {
   "cell_type": "code",
   "execution_count": 9,
   "id": "174d8b77",
   "metadata": {},
   "outputs": [],
   "source": [
    "# a PFNano file containing 2018 ggF simulation\n",
    "sample = \"ggF.root\""
   ]
  },
  {
   "cell_type": "code",
   "execution_count": 10,
   "id": "acc6bcd0",
   "metadata": {},
   "outputs": [],
   "source": [
    "events = NanoEventsFactory.from_root(\n",
    "    {sample:\"/Events\"},\n",
    "    schemaclass=PFNanoAODSchema,\n",
    ").events()"
   ]
  },
  {
   "cell_type": "code",
   "execution_count": 11,
   "id": "f27df19e-7462-42ec-a4c7-b13edb12d77c",
   "metadata": {},
   "outputs": [],
   "source": [
    "jetdef = fastjet.JetDefinition(\n",
    "        fastjet.cambridge_algorithm, 0.8\n",
    "    )\n",
    "pf = ak.flatten(events.FatJet.constituents.pf)\n",
    "cluster = fastjet.ClusterSequence(pf, jetdef)\n",
    "softdrop_zcut10_beta0 = cluster.exclusive_jets_softdrop_grooming()"
   ]
  },
  {
   "cell_type": "code",
   "execution_count": 4,
   "id": "e0e9b260-d42a-4d13-b462-f3b7375d8f27",
   "metadata": {},
   "outputs": [
    {
     "ename": "AttributeError",
     "evalue": "no field named 'px'",
     "output_type": "error",
     "traceback": [
      "\u001b[0;31m---------------------------------------------------------------------------\u001b[0m",
      "\u001b[0;31mAttributeError\u001b[0m                            Traceback (most recent call last)",
      "Cell \u001b[0;32mIn[4], line 5\u001b[0m\n\u001b[1;32m      1\u001b[0m jetdef \u001b[38;5;241m=\u001b[39m fastjet\u001b[38;5;241m.\u001b[39mJetDefinition(\n\u001b[1;32m      2\u001b[0m         fastjet\u001b[38;5;241m.\u001b[39mcambridge_algorithm, \u001b[38;5;241m0.8\u001b[39m\n\u001b[1;32m      3\u001b[0m     )\n\u001b[1;32m      4\u001b[0m pf \u001b[38;5;241m=\u001b[39m events\u001b[38;5;241m.\u001b[39mFatJet\u001b[38;5;241m.\u001b[39mconstituents\u001b[38;5;241m.\u001b[39mpf\n\u001b[0;32m----> 5\u001b[0m cluster \u001b[38;5;241m=\u001b[39m \u001b[43mfastjet\u001b[49m\u001b[38;5;241;43m.\u001b[39;49m\u001b[43mClusterSequence\u001b[49m\u001b[43m(\u001b[49m\u001b[43mpf\u001b[49m\u001b[43m,\u001b[49m\u001b[43m \u001b[49m\u001b[43mjetdef\u001b[49m\u001b[43m)\u001b[49m\n\u001b[1;32m      6\u001b[0m softdrop_zcut10_beta0 \u001b[38;5;241m=\u001b[39m cluster\u001b[38;5;241m.\u001b[39mexclusive_jets_softdrop_grooming()\n",
      "File \u001b[0;32m/usr/local/lib/python3.11/site-packages/fastjet/__init__.py:263\u001b[0m, in \u001b[0;36mClusterSequence.__init__\u001b[0;34m(self, data, jetdef)\u001b[0m\n\u001b[1;32m    261\u001b[0m \u001b[38;5;28;01mif\u001b[39;00m dak \u001b[38;5;129;01mis\u001b[39;00m \u001b[38;5;129;01mnot\u001b[39;00m \u001b[38;5;28;01mNone\u001b[39;00m \u001b[38;5;129;01mand\u001b[39;00m \u001b[38;5;28misinstance\u001b[39m(data, dak\u001b[38;5;241m.\u001b[39mArray):\n\u001b[1;32m    262\u001b[0m     \u001b[38;5;28mself\u001b[39m\u001b[38;5;241m.\u001b[39m\u001b[38;5;18m__class__\u001b[39m \u001b[38;5;241m=\u001b[39m fastjet\u001b[38;5;241m.\u001b[39m_pyjet\u001b[38;5;241m.\u001b[39mDaskAwkwardClusterSequence\n\u001b[0;32m--> 263\u001b[0m     \u001b[43mfastjet\u001b[49m\u001b[38;5;241;43m.\u001b[39;49m\u001b[43m_pyjet\u001b[49m\u001b[38;5;241;43m.\u001b[39;49m\u001b[43mDaskAwkwardClusterSequence\u001b[49m\u001b[38;5;241;43m.\u001b[39;49m\u001b[38;5;21;43m__init__\u001b[39;49m\u001b[43m(\u001b[49m\n\u001b[1;32m    264\u001b[0m \u001b[43m        \u001b[49m\u001b[38;5;28;43mself\u001b[39;49m\u001b[43m,\u001b[49m\u001b[43m \u001b[49m\u001b[43mdata\u001b[49m\u001b[38;5;241;43m=\u001b[39;49m\u001b[43mdata\u001b[49m\u001b[43m,\u001b[49m\u001b[43m \u001b[49m\u001b[43mjetdef\u001b[49m\u001b[38;5;241;43m=\u001b[39;49m\u001b[43mjetdef\u001b[49m\n\u001b[1;32m    265\u001b[0m \u001b[43m    \u001b[49m\u001b[43m)\u001b[49m\n\u001b[1;32m    266\u001b[0m \u001b[38;5;28;01melse\u001b[39;00m:\n\u001b[1;32m    267\u001b[0m     \u001b[38;5;28;01mraise\u001b[39;00m \u001b[38;5;167;01mTypeError\u001b[39;00m(\n\u001b[1;32m    268\u001b[0m         \u001b[38;5;124mf\u001b[39m\u001b[38;5;124m\"\u001b[39m\u001b[38;5;132;01m{\u001b[39;00mdata\u001b[38;5;132;01m}\u001b[39;00m\u001b[38;5;124m must be an awkward.Array, dask_awkward.Array, or list!\u001b[39m\u001b[38;5;124m\"\u001b[39m\n\u001b[1;32m    269\u001b[0m     )\n",
      "File \u001b[0;32m/usr/local/lib/python3.11/site-packages/fastjet/_pyjet.py:352\u001b[0m, in \u001b[0;36mDaskAwkwardClusterSequence.__init__\u001b[0;34m(self, data, jetdef)\u001b[0m\n\u001b[1;32m    348\u001b[0m     \u001b[38;5;28mself\u001b[39m\u001b[38;5;241m.\u001b[39m_internalrep \u001b[38;5;241m=\u001b[39m fastjet\u001b[38;5;241m.\u001b[39m_singleevent\u001b[38;5;241m.\u001b[39m_classsingleevent(\n\u001b[1;32m    349\u001b[0m         length_zero_data, \u001b[38;5;28mself\u001b[39m\u001b[38;5;241m.\u001b[39m_jetdef\n\u001b[1;32m    350\u001b[0m     )\n\u001b[1;32m    351\u001b[0m \u001b[38;5;28;01melif\u001b[39;00m \u001b[38;5;28mself\u001b[39m\u001b[38;5;241m.\u001b[39m_jagedness \u001b[38;5;241m>\u001b[39m\u001b[38;5;241m=\u001b[39m \u001b[38;5;241m3\u001b[39m \u001b[38;5;129;01mor\u001b[39;00m \u001b[38;5;28mself\u001b[39m\u001b[38;5;241m.\u001b[39m_check_general(data):\n\u001b[0;32m--> 352\u001b[0m     \u001b[38;5;28mself\u001b[39m\u001b[38;5;241m.\u001b[39m_internalrep \u001b[38;5;241m=\u001b[39m \u001b[43mfastjet\u001b[49m\u001b[38;5;241;43m.\u001b[39;49m\u001b[43m_generalevent\u001b[49m\u001b[38;5;241;43m.\u001b[39;49m\u001b[43m_classgeneralevent\u001b[49m\u001b[43m(\u001b[49m\n\u001b[1;32m    353\u001b[0m \u001b[43m        \u001b[49m\u001b[43mlength_zero_data\u001b[49m\u001b[43m,\u001b[49m\u001b[43m \u001b[49m\u001b[43mjetdef\u001b[49m\n\u001b[1;32m    354\u001b[0m \u001b[43m    \u001b[49m\u001b[43m)\u001b[49m\n",
      "File \u001b[0;32m/usr/local/lib/python3.11/site-packages/fastjet/_generalevent.py:24\u001b[0m, in \u001b[0;36m_classgeneralevent.__init__\u001b[0;34m(self, data, jetdef)\u001b[0m\n\u001b[1;32m     20\u001b[0m \u001b[38;5;28;01mfor\u001b[39;00m i \u001b[38;5;129;01min\u001b[39;00m \u001b[38;5;28mrange\u001b[39m(\u001b[38;5;28mlen\u001b[39m(\u001b[38;5;28mself\u001b[39m\u001b[38;5;241m.\u001b[39m_clusterable_level)):\n\u001b[1;32m     21\u001b[0m     \u001b[38;5;28mself\u001b[39m\u001b[38;5;241m.\u001b[39m_clusterable_level[i] \u001b[38;5;241m=\u001b[39m ak\u001b[38;5;241m.\u001b[39mArray(\n\u001b[1;32m     22\u001b[0m         \u001b[38;5;28mself\u001b[39m\u001b[38;5;241m.\u001b[39m_clusterable_level[i]\u001b[38;5;241m.\u001b[39mlayout\u001b[38;5;241m.\u001b[39mto_ListOffsetArray64(\u001b[38;5;28;01mTrue\u001b[39;00m)\n\u001b[1;32m     23\u001b[0m     )\n\u001b[0;32m---> 24\u001b[0m     px, py, pz, E, offsets \u001b[38;5;241m=\u001b[39m \u001b[38;5;28;43mself\u001b[39;49m\u001b[38;5;241;43m.\u001b[39;49m\u001b[43mextract_cons\u001b[49m\u001b[43m(\u001b[49m\u001b[38;5;28;43mself\u001b[39;49m\u001b[38;5;241;43m.\u001b[39;49m\u001b[43m_clusterable_level\u001b[49m\u001b[43m[\u001b[49m\u001b[43mi\u001b[49m\u001b[43m]\u001b[49m\u001b[43m)\u001b[49m\n\u001b[1;32m     25\u001b[0m     px \u001b[38;5;241m=\u001b[39m \u001b[38;5;28mself\u001b[39m\u001b[38;5;241m.\u001b[39mcorrect_byteorder(px)\n\u001b[1;32m     26\u001b[0m     py \u001b[38;5;241m=\u001b[39m \u001b[38;5;28mself\u001b[39m\u001b[38;5;241m.\u001b[39mcorrect_byteorder(py)\n",
      "File \u001b[0;32m/usr/local/lib/python3.11/site-packages/fastjet/_generalevent.py:214\u001b[0m, in \u001b[0;36m_classgeneralevent.extract_cons\u001b[0;34m(self, array)\u001b[0m\n\u001b[1;32m    213\u001b[0m \u001b[38;5;28;01mdef\u001b[39;00m \u001b[38;5;21mextract_cons\u001b[39m(\u001b[38;5;28mself\u001b[39m, array):\n\u001b[0;32m--> 214\u001b[0m     px \u001b[38;5;241m=\u001b[39m np\u001b[38;5;241m.\u001b[39masarray(\u001b[43mak\u001b[49m\u001b[38;5;241;43m.\u001b[39;49m\u001b[43mArray\u001b[49m\u001b[43m(\u001b[49m\u001b[43marray\u001b[49m\u001b[38;5;241;43m.\u001b[39;49m\u001b[43mlayout\u001b[49m\u001b[38;5;241;43m.\u001b[39;49m\u001b[43mcontent\u001b[49m\u001b[43m,\u001b[49m\u001b[43m \u001b[49m\u001b[43mbehavior\u001b[49m\u001b[38;5;241;43m=\u001b[39;49m\u001b[43marray\u001b[49m\u001b[38;5;241;43m.\u001b[39;49m\u001b[43mbehavior\u001b[49m\u001b[43m)\u001b[49m\u001b[38;5;241;43m.\u001b[39;49m\u001b[43mpx\u001b[49m)\n\u001b[1;32m    215\u001b[0m     py \u001b[38;5;241m=\u001b[39m np\u001b[38;5;241m.\u001b[39masarray(ak\u001b[38;5;241m.\u001b[39mArray(array\u001b[38;5;241m.\u001b[39mlayout\u001b[38;5;241m.\u001b[39mcontent, behavior\u001b[38;5;241m=\u001b[39marray\u001b[38;5;241m.\u001b[39mbehavior)\u001b[38;5;241m.\u001b[39mpy)\n\u001b[1;32m    216\u001b[0m     pz \u001b[38;5;241m=\u001b[39m np\u001b[38;5;241m.\u001b[39masarray(ak\u001b[38;5;241m.\u001b[39mArray(array\u001b[38;5;241m.\u001b[39mlayout\u001b[38;5;241m.\u001b[39mcontent, behavior\u001b[38;5;241m=\u001b[39marray\u001b[38;5;241m.\u001b[39mbehavior)\u001b[38;5;241m.\u001b[39mpz)\n",
      "File \u001b[0;32m/usr/local/lib/python3.11/site-packages/awkward/highlevel.py:1239\u001b[0m, in \u001b[0;36mArray.__getattr__\u001b[0;34m(self, where)\u001b[0m\n\u001b[1;32m   1234\u001b[0m         \u001b[38;5;28;01mraise\u001b[39;00m \u001b[38;5;167;01mAttributeError\u001b[39;00m(\n\u001b[1;32m   1235\u001b[0m             \u001b[38;5;124mf\u001b[39m\u001b[38;5;124m\"\u001b[39m\u001b[38;5;124mwhile trying to get field \u001b[39m\u001b[38;5;132;01m{\u001b[39;00mwhere\u001b[38;5;132;01m!r}\u001b[39;00m\u001b[38;5;124m, an exception \u001b[39m\u001b[38;5;124m\"\u001b[39m\n\u001b[1;32m   1236\u001b[0m             \u001b[38;5;124mf\u001b[39m\u001b[38;5;124m\"\u001b[39m\u001b[38;5;124moccurred:\u001b[39m\u001b[38;5;130;01m\\n\u001b[39;00m\u001b[38;5;132;01m{\u001b[39;00m\u001b[38;5;28mtype\u001b[39m(err)\u001b[38;5;132;01m}\u001b[39;00m\u001b[38;5;124m: \u001b[39m\u001b[38;5;132;01m{\u001b[39;00merr\u001b[38;5;132;01m!s}\u001b[39;00m\u001b[38;5;124m\"\u001b[39m\n\u001b[1;32m   1237\u001b[0m         ) \u001b[38;5;28;01mfrom\u001b[39;00m \u001b[38;5;21;01merr\u001b[39;00m\n\u001b[1;32m   1238\u001b[0m \u001b[38;5;28;01melse\u001b[39;00m:\n\u001b[0;32m-> 1239\u001b[0m     \u001b[38;5;28;01mraise\u001b[39;00m \u001b[38;5;167;01mAttributeError\u001b[39;00m(\u001b[38;5;124mf\u001b[39m\u001b[38;5;124m\"\u001b[39m\u001b[38;5;124mno field named \u001b[39m\u001b[38;5;132;01m{\u001b[39;00mwhere\u001b[38;5;132;01m!r}\u001b[39;00m\u001b[38;5;124m\"\u001b[39m)\n",
      "\u001b[0;31mAttributeError\u001b[0m: no field named 'px'"
     ]
    }
   ],
   "source": [
    "jetdef = fastjet.JetDefinition(\n",
    "        fastjet.cambridge_algorithm, 0.8\n",
    "    )\n",
    "pf = events.FatJet.constituents.pf\n",
    "cluster = fastjet.ClusterSequence(pf, jetdef)\n",
    "softdrop_zcut10_beta0 = cluster.exclusive_jets_softdrop_grooming()"
   ]
  },
  {
   "cell_type": "code",
   "execution_count": 5,
   "id": "93c97bf0-73dc-4ca5-b20a-ee4edf84dba0",
   "metadata": {},
   "outputs": [
    {
     "ename": "AttributeError",
     "evalue": "no field named 'px'",
     "output_type": "error",
     "traceback": [
      "\u001b[0;31m---------------------------------------------------------------------------\u001b[0m",
      "\u001b[0;31mAttributeError\u001b[0m                            Traceback (most recent call last)",
      "Cell \u001b[0;32mIn[5], line 4\u001b[0m\n\u001b[1;32m      1\u001b[0m \u001b[38;5;66;03m# Lindsey's suggestion\u001b[39;00m\n\u001b[1;32m      3\u001b[0m computedpf \u001b[38;5;241m=\u001b[39m events\u001b[38;5;241m.\u001b[39mFatJet\u001b[38;5;241m.\u001b[39mconstituents\u001b[38;5;241m.\u001b[39mpf\u001b[38;5;241m.\u001b[39mcompute()\n\u001b[0;32m----> 4\u001b[0m cluster \u001b[38;5;241m=\u001b[39m \u001b[43mfastjet\u001b[49m\u001b[38;5;241;43m.\u001b[39;49m\u001b[43mClusterSequence\u001b[49m\u001b[43m(\u001b[49m\u001b[43mcomputedpf\u001b[49m\u001b[43m,\u001b[49m\u001b[43m \u001b[49m\u001b[43mjetdef\u001b[49m\u001b[43m)\u001b[49m\n\u001b[1;32m      5\u001b[0m softdrop_zcut10_beta0 \u001b[38;5;241m=\u001b[39m cluster\u001b[38;5;241m.\u001b[39mexclusive_jets_softdrop_grooming()\n",
      "File \u001b[0;32m/usr/local/lib/python3.11/site-packages/fastjet/__init__.py:250\u001b[0m, in \u001b[0;36mClusterSequence.__init__\u001b[0;34m(self, data, jetdef)\u001b[0m\n\u001b[1;32m    248\u001b[0m \u001b[38;5;28;01mif\u001b[39;00m \u001b[38;5;28misinstance\u001b[39m(data, ak\u001b[38;5;241m.\u001b[39mArray):\n\u001b[1;32m    249\u001b[0m     \u001b[38;5;28mself\u001b[39m\u001b[38;5;241m.\u001b[39m\u001b[38;5;18m__class__\u001b[39m \u001b[38;5;241m=\u001b[39m fastjet\u001b[38;5;241m.\u001b[39m_pyjet\u001b[38;5;241m.\u001b[39mAwkwardClusterSequence\n\u001b[0;32m--> 250\u001b[0m     \u001b[43mfastjet\u001b[49m\u001b[38;5;241;43m.\u001b[39;49m\u001b[43m_pyjet\u001b[49m\u001b[38;5;241;43m.\u001b[39;49m\u001b[43mAwkwardClusterSequence\u001b[49m\u001b[38;5;241;43m.\u001b[39;49m\u001b[38;5;21;43m__init__\u001b[39;49m\u001b[43m(\u001b[49m\n\u001b[1;32m    251\u001b[0m \u001b[43m        \u001b[49m\u001b[38;5;28;43mself\u001b[39;49m\u001b[43m,\u001b[49m\u001b[43m \u001b[49m\u001b[43mdata\u001b[49m\u001b[38;5;241;43m=\u001b[39;49m\u001b[43mdata\u001b[49m\u001b[43m,\u001b[49m\u001b[43m \u001b[49m\u001b[43mjetdef\u001b[49m\u001b[38;5;241;43m=\u001b[39;49m\u001b[43mjetdef\u001b[49m\n\u001b[1;32m    252\u001b[0m \u001b[43m    \u001b[49m\u001b[43m)\u001b[49m\n\u001b[1;32m    253\u001b[0m \u001b[38;5;28;01melif\u001b[39;00m \u001b[38;5;28misinstance\u001b[39m(data, \u001b[38;5;28mlist\u001b[39m):\n\u001b[1;32m    254\u001b[0m     \u001b[38;5;28mself\u001b[39m\u001b[38;5;241m.\u001b[39m\u001b[38;5;18m__class__\u001b[39m \u001b[38;5;241m=\u001b[39m fastjet\u001b[38;5;241m.\u001b[39m_swig\u001b[38;5;241m.\u001b[39mClusterSequence\n",
      "File \u001b[0;32m/usr/local/lib/python3.11/site-packages/fastjet/_pyjet.py:32\u001b[0m, in \u001b[0;36mAwkwardClusterSequence.__init__\u001b[0;34m(self, data, jetdef)\u001b[0m\n\u001b[1;32m     28\u001b[0m     \u001b[38;5;28mself\u001b[39m\u001b[38;5;241m.\u001b[39m_internalrep \u001b[38;5;241m=\u001b[39m fastjet\u001b[38;5;241m.\u001b[39m_singleevent\u001b[38;5;241m.\u001b[39m_classsingleevent(\n\u001b[1;32m     29\u001b[0m         data, \u001b[38;5;28mself\u001b[39m\u001b[38;5;241m.\u001b[39m_jetdef\n\u001b[1;32m     30\u001b[0m     )\n\u001b[1;32m     31\u001b[0m \u001b[38;5;28;01melif\u001b[39;00m \u001b[38;5;28mself\u001b[39m\u001b[38;5;241m.\u001b[39m_jagedness \u001b[38;5;241m>\u001b[39m\u001b[38;5;241m=\u001b[39m \u001b[38;5;241m3\u001b[39m \u001b[38;5;129;01mor\u001b[39;00m \u001b[38;5;28mself\u001b[39m\u001b[38;5;241m.\u001b[39m_check_general(data):\n\u001b[0;32m---> 32\u001b[0m     \u001b[38;5;28mself\u001b[39m\u001b[38;5;241m.\u001b[39m_internalrep \u001b[38;5;241m=\u001b[39m \u001b[43mfastjet\u001b[49m\u001b[38;5;241;43m.\u001b[39;49m\u001b[43m_generalevent\u001b[49m\u001b[38;5;241;43m.\u001b[39;49m\u001b[43m_classgeneralevent\u001b[49m\u001b[43m(\u001b[49m\u001b[43mdata\u001b[49m\u001b[43m,\u001b[49m\u001b[43m \u001b[49m\u001b[43mjetdef\u001b[49m\u001b[43m)\u001b[49m\n",
      "File \u001b[0;32m/usr/local/lib/python3.11/site-packages/fastjet/_generalevent.py:24\u001b[0m, in \u001b[0;36m_classgeneralevent.__init__\u001b[0;34m(self, data, jetdef)\u001b[0m\n\u001b[1;32m     20\u001b[0m \u001b[38;5;28;01mfor\u001b[39;00m i \u001b[38;5;129;01min\u001b[39;00m \u001b[38;5;28mrange\u001b[39m(\u001b[38;5;28mlen\u001b[39m(\u001b[38;5;28mself\u001b[39m\u001b[38;5;241m.\u001b[39m_clusterable_level)):\n\u001b[1;32m     21\u001b[0m     \u001b[38;5;28mself\u001b[39m\u001b[38;5;241m.\u001b[39m_clusterable_level[i] \u001b[38;5;241m=\u001b[39m ak\u001b[38;5;241m.\u001b[39mArray(\n\u001b[1;32m     22\u001b[0m         \u001b[38;5;28mself\u001b[39m\u001b[38;5;241m.\u001b[39m_clusterable_level[i]\u001b[38;5;241m.\u001b[39mlayout\u001b[38;5;241m.\u001b[39mto_ListOffsetArray64(\u001b[38;5;28;01mTrue\u001b[39;00m)\n\u001b[1;32m     23\u001b[0m     )\n\u001b[0;32m---> 24\u001b[0m     px, py, pz, E, offsets \u001b[38;5;241m=\u001b[39m \u001b[38;5;28;43mself\u001b[39;49m\u001b[38;5;241;43m.\u001b[39;49m\u001b[43mextract_cons\u001b[49m\u001b[43m(\u001b[49m\u001b[38;5;28;43mself\u001b[39;49m\u001b[38;5;241;43m.\u001b[39;49m\u001b[43m_clusterable_level\u001b[49m\u001b[43m[\u001b[49m\u001b[43mi\u001b[49m\u001b[43m]\u001b[49m\u001b[43m)\u001b[49m\n\u001b[1;32m     25\u001b[0m     px \u001b[38;5;241m=\u001b[39m \u001b[38;5;28mself\u001b[39m\u001b[38;5;241m.\u001b[39mcorrect_byteorder(px)\n\u001b[1;32m     26\u001b[0m     py \u001b[38;5;241m=\u001b[39m \u001b[38;5;28mself\u001b[39m\u001b[38;5;241m.\u001b[39mcorrect_byteorder(py)\n",
      "File \u001b[0;32m/usr/local/lib/python3.11/site-packages/fastjet/_generalevent.py:214\u001b[0m, in \u001b[0;36m_classgeneralevent.extract_cons\u001b[0;34m(self, array)\u001b[0m\n\u001b[1;32m    213\u001b[0m \u001b[38;5;28;01mdef\u001b[39;00m \u001b[38;5;21mextract_cons\u001b[39m(\u001b[38;5;28mself\u001b[39m, array):\n\u001b[0;32m--> 214\u001b[0m     px \u001b[38;5;241m=\u001b[39m np\u001b[38;5;241m.\u001b[39masarray(\u001b[43mak\u001b[49m\u001b[38;5;241;43m.\u001b[39;49m\u001b[43mArray\u001b[49m\u001b[43m(\u001b[49m\u001b[43marray\u001b[49m\u001b[38;5;241;43m.\u001b[39;49m\u001b[43mlayout\u001b[49m\u001b[38;5;241;43m.\u001b[39;49m\u001b[43mcontent\u001b[49m\u001b[43m,\u001b[49m\u001b[43m \u001b[49m\u001b[43mbehavior\u001b[49m\u001b[38;5;241;43m=\u001b[39;49m\u001b[43marray\u001b[49m\u001b[38;5;241;43m.\u001b[39;49m\u001b[43mbehavior\u001b[49m\u001b[43m)\u001b[49m\u001b[38;5;241;43m.\u001b[39;49m\u001b[43mpx\u001b[49m)\n\u001b[1;32m    215\u001b[0m     py \u001b[38;5;241m=\u001b[39m np\u001b[38;5;241m.\u001b[39masarray(ak\u001b[38;5;241m.\u001b[39mArray(array\u001b[38;5;241m.\u001b[39mlayout\u001b[38;5;241m.\u001b[39mcontent, behavior\u001b[38;5;241m=\u001b[39marray\u001b[38;5;241m.\u001b[39mbehavior)\u001b[38;5;241m.\u001b[39mpy)\n\u001b[1;32m    216\u001b[0m     pz \u001b[38;5;241m=\u001b[39m np\u001b[38;5;241m.\u001b[39masarray(ak\u001b[38;5;241m.\u001b[39mArray(array\u001b[38;5;241m.\u001b[39mlayout\u001b[38;5;241m.\u001b[39mcontent, behavior\u001b[38;5;241m=\u001b[39marray\u001b[38;5;241m.\u001b[39mbehavior)\u001b[38;5;241m.\u001b[39mpz)\n",
      "File \u001b[0;32m/usr/local/lib/python3.11/site-packages/awkward/highlevel.py:1239\u001b[0m, in \u001b[0;36mArray.__getattr__\u001b[0;34m(self, where)\u001b[0m\n\u001b[1;32m   1234\u001b[0m         \u001b[38;5;28;01mraise\u001b[39;00m \u001b[38;5;167;01mAttributeError\u001b[39;00m(\n\u001b[1;32m   1235\u001b[0m             \u001b[38;5;124mf\u001b[39m\u001b[38;5;124m\"\u001b[39m\u001b[38;5;124mwhile trying to get field \u001b[39m\u001b[38;5;132;01m{\u001b[39;00mwhere\u001b[38;5;132;01m!r}\u001b[39;00m\u001b[38;5;124m, an exception \u001b[39m\u001b[38;5;124m\"\u001b[39m\n\u001b[1;32m   1236\u001b[0m             \u001b[38;5;124mf\u001b[39m\u001b[38;5;124m\"\u001b[39m\u001b[38;5;124moccurred:\u001b[39m\u001b[38;5;130;01m\\n\u001b[39;00m\u001b[38;5;132;01m{\u001b[39;00m\u001b[38;5;28mtype\u001b[39m(err)\u001b[38;5;132;01m}\u001b[39;00m\u001b[38;5;124m: \u001b[39m\u001b[38;5;132;01m{\u001b[39;00merr\u001b[38;5;132;01m!s}\u001b[39;00m\u001b[38;5;124m\"\u001b[39m\n\u001b[1;32m   1237\u001b[0m         ) \u001b[38;5;28;01mfrom\u001b[39;00m \u001b[38;5;21;01merr\u001b[39;00m\n\u001b[1;32m   1238\u001b[0m \u001b[38;5;28;01melse\u001b[39;00m:\n\u001b[0;32m-> 1239\u001b[0m     \u001b[38;5;28;01mraise\u001b[39;00m \u001b[38;5;167;01mAttributeError\u001b[39;00m(\u001b[38;5;124mf\u001b[39m\u001b[38;5;124m\"\u001b[39m\u001b[38;5;124mno field named \u001b[39m\u001b[38;5;132;01m{\u001b[39;00mwhere\u001b[38;5;132;01m!r}\u001b[39;00m\u001b[38;5;124m\"\u001b[39m)\n",
      "\u001b[0;31mAttributeError\u001b[0m: no field named 'px'"
     ]
    }
   ],
   "source": [
    "# Lindsey's suggestion\n",
    "\n",
    "computedpf = events.FatJet.constituents.pf.compute()\n",
    "cluster = fastjet.ClusterSequence(computedpf, jetdef)\n",
    "softdrop_zcut10_beta0 = cluster.exclusive_jets_softdrop_grooming()"
   ]
  },
  {
   "cell_type": "code",
   "execution_count": 7,
   "id": "f55eaa47-6cb9-4a62-8d61-2ab5e7d99a84",
   "metadata": {},
   "outputs": [],
   "source": []
  },
  {
   "cell_type": "code",
   "execution_count": null,
   "id": "990eab9e-6c29-4d9c-8aed-c706e16b56c5",
   "metadata": {},
   "outputs": [],
   "source": []
  }
 ],
 "metadata": {
  "kernelspec": {
   "display_name": "Python 3 (ipykernel)",
   "language": "python",
   "name": "python3"
  },
  "language_info": {
   "codemirror_mode": {
    "name": "ipython",
    "version": 3
   },
   "file_extension": ".py",
   "mimetype": "text/x-python",
   "name": "python",
   "nbconvert_exporter": "python",
   "pygments_lexer": "ipython3",
   "version": "3.12.3"
  }
 },
 "nbformat": 4,
 "nbformat_minor": 5
}
