{
 "cells": [
  {
   "cell_type": "code",
   "execution_count": 1,
   "id": "176b048a",
   "metadata": {},
   "outputs": [],
   "source": [
    "from coffea.nanoevents import NanoEventsFactory, PFNanoAODSchema\n",
    "import fastjet\n",
    "import awkward as ak\n",
    "import matplotlib.pyplot as plt\n",
    "\n",
    "import warnings\n",
    "warnings.filterwarnings(\"ignore\")"
   ]
  },
  {
   "cell_type": "code",
   "execution_count": 2,
   "id": "174d8b77",
   "metadata": {},
   "outputs": [],
   "source": [
    "# a PFNano file containing 2018 ggF simulation\n",
    "sample = \"/uscms/home/jennetd/nobackup/hbb-prod-modes/run3-triggers/data-mc/ggF.root\""
   ]
  },
  {
   "cell_type": "code",
   "execution_count": 3,
   "id": "acc6bcd0",
   "metadata": {},
   "outputs": [],
   "source": [
    "events = NanoEventsFactory.from_root(\n",
    "    {sample:\"/Events\"},\n",
    "    schemaclass=PFNanoAODSchema,\n",
    ").events()"
   ]
  },
  {
   "cell_type": "code",
   "execution_count": 4,
   "id": "91271750-4dc7-4b36-bec6-a960aa6a4c1a",
   "metadata": {},
   "outputs": [
    {
     "data": {
      "text/plain": [
       "['JetSVsAK15',\n",
       " 'SoftActivityJetNjets5',\n",
       " 'FatJetAK15PFCands',\n",
       " 'FatJetAK15SubJet',\n",
       " 'boostedTau',\n",
       " 'L1Reco',\n",
       " 'SoftActivityJetNjets2',\n",
       " 'RawMET',\n",
       " 'SubJet',\n",
       " 'SoftDropGenJetAK15',\n",
       " 'TkMET',\n",
       " 'GenVtx',\n",
       " 'MET',\n",
       " 'event',\n",
       " 'CorrT1METJet',\n",
       " 'PV',\n",
       " 'PuppiMET',\n",
       " 'genTtbarId',\n",
       " 'Generator',\n",
       " 'LHEWeight',\n",
       " 'LHEPdfWeight',\n",
       " 'SoftActivityJetHT10',\n",
       " 'SoftActivityJetHT5',\n",
       " 'IsoTrack',\n",
       " 'OtherPV',\n",
       " 'DeepMETResolutionTune',\n",
       " 'LowPtElectron',\n",
       " 'HTXS',\n",
       " 'L1',\n",
       " 'Pileup',\n",
       " 'DeepMETResponseTune',\n",
       " 'SoftActivityJetHT',\n",
       " 'GenJetAK8',\n",
       " 'LHEReweightingWeight',\n",
       " 'FatJetPFCands',\n",
       " 'luminosityBlock',\n",
       " 'L1PreFiringWeight',\n",
       " 'FatJetSVs',\n",
       " 'SoftActivityJet',\n",
       " 'fixedGridRhoFastjetCentral',\n",
       " 'Muon',\n",
       " 'HLT',\n",
       " 'SoftActivityJetNjets10',\n",
       " 'btagWeight',\n",
       " 'LHEPart',\n",
       " 'fixedGridRhoFastjetCentralChargedPileUp',\n",
       " 'FatJet',\n",
       " 'GenJet',\n",
       " 'GenSubJetAK15',\n",
       " 'RawPuppiMET',\n",
       " 'run',\n",
       " 'SoftActivityJetHT2',\n",
       " 'GenIsolatedPhoton',\n",
       " 'LHE',\n",
       " 'fixedGridRhoFastjetCentralCalo',\n",
       " 'L1simulation',\n",
       " 'GenVisTau',\n",
       " 'genWeight',\n",
       " 'Jet',\n",
       " 'LHEScaleWeight',\n",
       " 'FatJetAK15',\n",
       " 'Tau',\n",
       " 'SubGenJetAK8',\n",
       " 'HLTriggerFinalPath',\n",
       " 'HLTriggerFirstPath',\n",
       " 'PSWeight',\n",
       " 'FsrPhoton',\n",
       " 'SV',\n",
       " 'fixedGridRhoFastjetCentralNeutral',\n",
       " 'Photon',\n",
       " 'GenMET',\n",
       " 'GenDressedLepton',\n",
       " 'Electron',\n",
       " 'GenJetAK15',\n",
       " 'PFCands',\n",
       " 'TrigObj',\n",
       " 'ChsMET',\n",
       " 'GenPart',\n",
       " 'Flag',\n",
       " 'fixedGridRhoFastjetAll',\n",
       " 'CaloMET']"
      ]
     },
     "execution_count": 4,
     "metadata": {},
     "output_type": "execute_result"
    }
   ],
   "source": [
    "# What is in an event?\n",
    "events.fields"
   ]
  },
  {
   "cell_type": "code",
   "execution_count": 5,
   "id": "c8e9350c-1f4d-43da-87f6-145c8400b563",
   "metadata": {},
   "outputs": [
    {
     "name": "stdout",
     "output_type": "stream",
     "text": [
      "['pt', 'eta', 'phi', 'mass', 'incomingpz', 'pdgId', 'status', 'spin']\n"
     ]
    }
   ],
   "source": [
    "# Example: generator-level \"truth\" particles\n",
    "all_particles = events.LHEPart\n",
    "\n",
    "# What attributes do the truth particles have?\n",
    "print(all_particles.fields)"
   ]
  },
  {
   "cell_type": "code",
   "execution_count": 6,
   "id": "a8a75a6d-e314-4d1a-afc3-a42742bf30ce",
   "metadata": {},
   "outputs": [
    {
     "data": {
      "text/html": [
       "<pre>[[21, 1, 25, 1, 21],\n",
       " [21, 21, 25, 21, 21],\n",
       " [21, 21, 25, 21, 21],\n",
       " [21, 21, 25, 21, 21],\n",
       " [2, 21, 25, 2, 21],\n",
       " [21, 21, 25, 21, 21],\n",
       " [21, 21, 25, 21, 21],\n",
       " [-1, 21, 25, -1, 21],\n",
       " [21, 2, 25, 2, 21],\n",
       " [21, 21, 25, 21, 21],\n",
       " ...,\n",
       " [1, 1, 25, 1, 1],\n",
       " [21, 21, 25, 21, 21],\n",
       " [21, 21, 25, 5, -5],\n",
       " [-1, 2, 25, -1, 2],\n",
       " [1, 21, 25, 21, 1],\n",
       " [21, 21, 25, -2, 2],\n",
       " [-2, 21, 25, 21, -2],\n",
       " [21, 21, 25, 21, 21],\n",
       " [21, 21, 25, 21, 21]]\n",
       "----------------------------------------------------------------------------\n",
       "type: 12000 * var * int32[parameters={&quot;__doc__&quot;: &quot;PDG ID of LHE particles&quot;}]</pre>"
      ],
      "text/plain": [
       "<Array [[21, 1, 25, 1, 21], ..., [21, ..., 21]] type='12000 * var * int32[p...'>"
      ]
     },
     "execution_count": 6,
     "metadata": {},
     "output_type": "execute_result"
    }
   ],
   "source": [
    "# What types of particles are they? https://pdg.lbl.gov/2007/reviews/montecarlorpp.pdf\n",
    "# First two in the list: incoming particles\n",
    "# The rest: outgoing particles\n",
    "\n",
    "all_particles.pdgId.compute()"
   ]
  },
  {
   "cell_type": "code",
   "execution_count": 7,
   "id": "6de19394-807d-42e7-964f-a46d2467042f",
   "metadata": {},
   "outputs": [],
   "source": [
    "# 25 = Higgs\n",
    "higgses = all_particles[all_particles.pdgId==25]"
   ]
  },
  {
   "cell_type": "code",
   "execution_count": 8,
   "id": "f27df19e-7462-42ec-a4c7-b13edb12d77c",
   "metadata": {},
   "outputs": [
    {
     "data": {
      "text/plain": [
       "(array([1.330e+02, 2.269e+03, 6.953e+03, 1.912e+03, 5.050e+02, 1.450e+02,\n",
       "        4.800e+01, 2.500e+01, 6.000e+00, 4.000e+00]),\n",
       " array([ 12.578125 , 107.8359375, 203.09375  , 298.3515625, 393.609375 ,\n",
       "        488.8671875, 584.125    , 679.3828125, 774.640625 , 869.8984375,\n",
       "        965.15625  ]),\n",
       " <BarContainer object of 10 artists>)"
      ]
     },
     "execution_count": 8,
     "metadata": {},
     "output_type": "execute_result"
    },
    {
     "data": {
      "image/png": "[encoded data removed]",
      "text/plain": [
       "<Figure size 640x480 with 1 Axes>"
      ]
     },
     "metadata": {},
     "output_type": "display_data"
    }
   ],
   "source": [
    "# Draw the Higgs pT\n",
    "plt.hist(higgses.pt.compute())"
   ]
  },
  {
   "cell_type": "code",
   "execution_count": 9,
   "id": "f55eaa47-6cb9-4a62-8d61-2ab5e7d99a84",
   "metadata": {},
   "outputs": [
    {
     "name": "stdout",
     "output_type": "stream",
     "text": [
      "['area', 'btagCSVV2', 'btagDDBvLV2', 'btagDDCvBV2', 'btagDDCvLV2', 'btagDeepB', 'btagHbb', 'deepTagMD_H4qvsQCD', 'deepTagMD_HbbvsQCD', 'deepTagMD_TvsQCD', 'deepTagMD_WvsQCD', 'deepTagMD_ZHbbvsQCD', 'deepTagMD_ZHccvsQCD', 'deepTagMD_ZbbvsQCD', 'deepTagMD_ZvsQCD', 'deepTagMD_bbvsLight', 'deepTagMD_ccvsLight', 'deepTag_H', 'deepTag_QCD', 'deepTag_QCDothers', 'deepTag_TvsQCD', 'deepTag_WvsQCD', 'deepTag_ZvsQCD', 'eta', 'mass', 'msoftdrop', 'n2b1', 'n3b1', 'particleNetMD_QCD', 'particleNetMD_Xbb', 'particleNetMD_Xcc', 'particleNetMD_Xqq', 'particleNet_H4qvsQCD', 'particleNet_HbbvsQCD', 'particleNet_HccvsQCD', 'particleNet_QCD', 'particleNet_TvsQCD', 'particleNet_WvsQCD', 'particleNet_ZvsQCD', 'particleNet_mass', 'phi', 'pt', 'rawFactor', 'tau1', 'tau2', 'tau3', 'tau4', 'lsf3', 'jetId', 'subJetIdx1', 'subJetIdx2', 'electronIdx3SJ', 'muonIdx3SJ', 'nConstituents', 'DDX_tau1_flightDistance2dSig', 'DDX_tau1_trackEtaRel_0', 'DDX_tau1_trackEtaRel_1', 'DDX_tau1_trackEtaRel_2', 'DDX_tau1_trackSip3dSig_0', 'DDX_tau1_trackSip3dSig_1', 'DDX_tau1_vertexDeltaR', 'DDX_tau1_vertexEnergyRatio', 'DDX_tau1_vertexMass', 'DDX_tau2_flightDistance2dSig', 'DDX_tau2_trackEtaRel_0', 'DDX_tau2_trackEtaRel_1', 'DDX_tau2_trackEtaRel_3', 'DDX_tau2_trackSip3dSig_0', 'DDX_tau2_trackSip3dSig_1', 'DDX_tau2_vertexEnergyRatio', 'DDX_tau2_vertexMass', 'DDX_trackSip2dSigAboveBottom_0', 'DDX_trackSip2dSigAboveBottom_1', 'DDX_trackSip2dSigAboveCharm', 'DDX_trackSip3dSig_0', 'DDX_trackSip3dSig_1', 'DDX_trackSip3dSig_2', 'DDX_trackSip3dSig_3', 'DDX_z_ratio', 'Proba', 'btagDeepB_b', 'btagDeepB_bb', 'btagDeepL', 'DDX_jetNSecondaryVertices', 'DDX_jetNTracks', 'nBHadrons', 'nCHadrons', 'genJetAK8Idx', 'hadronFlavour', 'genJetAK8IdxG', 'subJetIdx1G', 'subJetIdx2G', 'electronIdx3SJG', 'muonIdx3SJG', 'subJetIdxG', 'pFCandsIdxG']\n"
     ]
    }
   ],
   "source": [
    "# Example: large-radius \"fat\" jets\n",
    "all_jets = events.FatJet\n",
    "\n",
    "# What attributes do the jets have?\n",
    "print(all_jets.fields)"
   ]
  },
  {
   "cell_type": "code",
   "execution_count": 10,
   "id": "238e32a6-c558-4871-8ab9-c73afa570900",
   "metadata": {},
   "outputs": [],
   "source": [
    "# Get the highest pT \"leading\" jet in each event\n",
    "leading_jets = ak.firsts(all_jets[ak.argmax(all_jets.pt, axis=1, keepdims=True)])"
   ]
  },
  {
   "cell_type": "code",
   "execution_count": 11,
   "id": "990eab9e-6c29-4d9c-8aed-c706e16b56c5",
   "metadata": {},
   "outputs": [
    {
     "data": {
      "text/plain": [
       "(array([5.329e+03, 3.788e+03, 1.381e+03, 5.010e+02, 1.850e+02, 7.700e+01,\n",
       "        4.200e+01, 1.700e+01, 6.000e+00, 2.000e+00]),\n",
       " array([ 170.125     ,  255.4125061 ,  340.70001221,  425.98748779,\n",
       "         511.2749939 ,  596.5625    ,  681.84997559,  767.13751221,\n",
       "         852.42498779,  937.71252441, 1023.        ]),\n",
       " <BarContainer object of 10 artists>)"
      ]
     },
     "execution_count": 11,
     "metadata": {},
     "output_type": "execute_result"
    },
    {
     "data": {
      "image/png": "[encoded data removed]",
      "text/plain": [
       "<Figure size 640x480 with 1 Axes>"
      ]
     },
     "metadata": {},
     "output_type": "display_data"
    }
   ],
   "source": [
    "# Draw the jet pT\n",
    "plt.hist(leading_jets.pt.compute())"
   ]
  },
  {
   "cell_type": "code",
   "execution_count": 12,
   "id": "7a6e882d-185b-4954-9a63-a8b07ec47723",
   "metadata": {},
   "outputs": [
    {
     "data": {
      "text/plain": [
       "(array([3.900e+01, 4.279e+03, 6.099e+03, 6.820e+02, 1.530e+02, 4.600e+01,\n",
       "        1.700e+01, 9.000e+00, 1.000e+00, 3.000e+00]),\n",
       " array([-201.625     , -100.2585907 ,    1.10781252,  102.47422028,\n",
       "         203.84062195,  305.20703125,  406.57342529,  507.93984985,\n",
       "         609.30627441,  710.67266846,  812.0390625 ]),\n",
       " <BarContainer object of 10 artists>)"
      ]
     },
     "execution_count": 12,
     "metadata": {},
     "output_type": "execute_result"
    },
    {
     "data": {
      "image/png": "[encoded data removed]",
      "text/plain": [
       "<Figure size 640x480 with 1 Axes>"
      ]
     },
     "metadata": {},
     "output_type": "display_data"
    }
   ],
   "source": [
    "# Is the H pT and the leading jet pT always the same?\n",
    "plt.hist((leading_jets.pt - higgses.pt).compute())"
   ]
  },
  {
   "cell_type": "code",
   "execution_count": 13,
   "id": "8c9e298f-b4d4-4da2-a6b4-89c927537041",
   "metadata": {},
   "outputs": [
    {
     "data": {
      "text/plain": [
       "(array([3753.,   38.,   27.,  137., 1096., 4897., 1036.,  250.,   79.,\n",
       "          15.]),\n",
       " array([4.09436267e-04, 5.96016228e-01, 1.19162309e+00, 1.78722990e+00,\n",
       "        2.38283682e+00, 2.97844362e+00, 3.57405043e+00, 4.16965723e+00,\n",
       "        4.76526403e+00, 5.36087084e+00, 5.95647764e+00]),\n",
       " <BarContainer object of 10 artists>)"
      ]
     },
     "execution_count": 13,
     "metadata": {},
     "output_type": "execute_result"
    },
    {
     "data": {
      "image/png": "[encoded data removed]",
      "text/plain": [
       "<Figure size 640x480 with 1 Axes>"
      ]
     },
     "metadata": {},
     "output_type": "display_data"
    }
   ],
   "source": [
    "# Do the H and the jet always point the same way?\n",
    "plt.hist(leading_jets.delta_r(higgses).compute())"
   ]
  },
  {
   "cell_type": "code",
   "execution_count": 14,
   "id": "16bef82f-1d58-43af-871a-215b05b2b192",
   "metadata": {},
   "outputs": [],
   "source": [
    "# Get the jet with highest B-tag score in each event:\n",
    "leading_jets = ak.firsts(all_jets[ak.argmax(all_jets.btagDDBvLV2, axis=1, keepdims=True)])"
   ]
  },
  {
   "cell_type": "code",
   "execution_count": 15,
   "id": "27364bfd-2af7-4a07-ad4d-d8a3cf3bec34",
   "metadata": {},
   "outputs": [
    {
     "data": {
      "text/plain": [
       "(array([5.000e+00, 2.900e+01, 1.567e+03, 8.874e+03, 7.310e+02, 8.400e+01,\n",
       "        2.700e+01, 8.000e+00, 2.000e+00, 1.000e+00]),\n",
       " array([-424.96875   , -301.26797485, -177.56718445,  -53.86640549,\n",
       "          69.83437347,  193.53515625,  317.2359314 ,  440.93670654,\n",
       "         564.63751221,  688.33825684,  812.0390625 ]),\n",
       " <BarContainer object of 10 artists>)"
      ]
     },
     "execution_count": 15,
     "metadata": {},
     "output_type": "execute_result"
    },
    {
     "data": {
      "image/png": "[encoded data removed]",
      "text/plain": [
       "<Figure size 640x480 with 1 Axes>"
      ]
     },
     "metadata": {},
     "output_type": "display_data"
    }
   ],
   "source": [
    "# Is the H pT and the leading jet pT always the same?\n",
    "plt.hist((leading_jets.pt - higgses.pt).compute())"
   ]
  },
  {
   "cell_type": "code",
   "execution_count": 16,
   "id": "775409f9-169d-40d2-a60a-907ee8db354b",
   "metadata": {},
   "outputs": [
    {
     "data": {
      "text/plain": [
       "(array([7307.,  136.,   68.,  115.,  493., 2346.,  620.,  163.,   58.,\n",
       "          22.]),\n",
       " array([4.09436267e-04, 5.86304486e-01, 1.17219961e+00, 1.75809467e+00,\n",
       "        2.34398985e+00, 2.92988491e+00, 3.51577997e+00, 4.10167503e+00,\n",
       "        4.68757010e+00, 5.27346516e+00, 5.85936022e+00]),\n",
       " <BarContainer object of 10 artists>)"
      ]
     },
     "execution_count": 16,
     "metadata": {},
     "output_type": "execute_result"
    },
    {
     "data": {
      "image/png": "[encoded data removed]",
      "text/plain": [
       "<Figure size 640x480 with 1 Axes>"
      ]
     },
     "metadata": {},
     "output_type": "display_data"
    }
   ],
   "source": [
    "# Do the H and the jet always point the same way?\n",
    "plt.hist(leading_jets.delta_r(higgses).compute())"
   ]
  },
  {
   "cell_type": "code",
   "execution_count": 17,
   "id": "58700ffe-6781-462e-bba9-410d326a9308",
   "metadata": {},
   "outputs": [],
   "source": [
    "# Which way of selecting the Higgs candidate jet is better?"
   ]
  }
 ],
 "metadata": {
  "kernelspec": {
   "display_name": "Python 3 (ipykernel)",
   "language": "python",
   "name": "python3"
  },
  "language_info": {
   "codemirror_mode": {
    "name": "ipython",
    "version": 3
   },
   "file_extension": ".py",
   "mimetype": "text/x-python",
   "name": "python",
   "nbconvert_exporter": "python",
   "pygments_lexer": "ipython3",
   "version": "3.12.3"
  }
 },
 "nbformat": 4,
 "nbformat_minor": 5
}
