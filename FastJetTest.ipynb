{
 "cells": [
  {
   "cell_type": "code",
   "execution_count": 1,
   "id": "176b048a",
   "metadata": {},
   "outputs": [],
   "source": [
    "from coffea.nanoevents import NanoEventsFactory, PFNanoAODSchema\n",
    "import fastjet\n",
    "import awkward as ak\n",
    "import matplotlib.pyplot as plt\n",
    "\n",
    "import warnings\n",
    "warnings.filterwarnings(\"ignore\")"
   ]
  },
  {
   "cell_type": "code",
   "execution_count": 2,
   "id": "174d8b77",
   "metadata": {},
   "outputs": [],
   "source": [
    "# a PFNano file containing 2018 ggF simulation\n",
    "sample = \"/uscms/home/jennetd/nobackup/hbb-prod-modes/run3-triggers/data-mc/ggF.root\""
   ]
  },
  {
   "cell_type": "code",
   "execution_count": 3,
   "id": "acc6bcd0",
   "metadata": {},
   "outputs": [],
   "source": [
    "events = NanoEventsFactory.from_root(\n",
    "    {sample:\"/Events\"},\n",
    "    schemaclass=PFNanoAODSchema,\n",
    ").events()"
   ]
  },
  {
   "cell_type": "code",
   "execution_count": 4,
   "id": "91271750-4dc7-4b36-bec6-a960aa6a4c1a",
   "metadata": {},
   "outputs": [],
   "source": [
    "import fastjet"
   ]
  },
  {
   "cell_type": "code",
   "execution_count": 5,
   "id": "c8e9350c-1f4d-43da-87f6-145c8400b563",
   "metadata": {},
   "outputs": [],
   "source": [
    "# For soft drop studies we care about the AK8 jets\n",
    "fatjets = events.FatJet\n",
    "\n",
    "candidatejet = fatjets[(fatjets.pt > 450)\n",
    "                       & (abs(fatjets.eta) < 2.5)\n",
    "                       #& fatjets.isTight\n",
    "                       ]\n",
    "\n",
    "# Let's use only one jet\n",
    "leadingjets = candidatejet[:,0:1]"
   ]
  },
  {
   "cell_type": "code",
   "execution_count": 8,
   "id": "6e290d74-7b09-438f-804d-f63e436b521f",
   "metadata": {},
   "outputs": [],
   "source": [
    "pf = ak.flatten(leadingjets.constituents.pf, axis=1)"
   ]
  },
  {
   "cell_type": "code",
   "execution_count": 9,
   "id": "fb14b09f-a52e-4dcb-b7c0-ac4853e6dbf6",
   "metadata": {},
   "outputs": [],
   "source": [
    "jetdef = fastjet.JetDefinition(fastjet.cambridge_algorithm, 0.8)"
   ]
  },
  {
   "cell_type": "code",
   "execution_count": 10,
   "id": "8649b89e-af04-4c70-bbe2-38bf6e5713e9",
   "metadata": {},
   "outputs": [],
   "source": [
    "cluster = fastjet.ClusterSequence(pf, jetdef)\n",
    "softdrop_zcut10_beta0 = cluster.exclusive_jets_softdrop_grooming()"
   ]
  },
  {
   "cell_type": "code",
   "execution_count": 11,
   "id": "e4d5ecd4-4f9f-432f-a215-36bc04ce9d37",
   "metadata": {},
   "outputs": [],
   "source": [
    "softdrop_zcut10_beta0_cluster = fastjet.ClusterSequence(softdrop_zcut10_beta0.constituents, jetdef)\n",
    "n2 = softdrop_zcut10_beta0_cluster.exclusive_jets_energy_correlator(func=\"nseries\", npoint = 2)"
   ]
  },
  {
   "cell_type": "code",
   "execution_count": 14,
   "id": "7a6e882d-185b-4954-9a63-a8b07ec47723",
   "metadata": {
    "scrolled": true
   },
   "outputs": [
    {
     "name": "stdout",
     "output_type": "stream",
     "text": [
      "#--------------------------------------------------------------------------\n",
      "#                         FastJet release 3.4.1\n",
      "#                 M. Cacciari, G.P. Salam and G. Soyez                  \n",
      "#     A software package for jet finding and analysis at colliders      \n",
      "#                           http://fastjet.fr                           \n",
      "#\t                                                                      \n",
      "# Please cite EPJC72(2012)1896 [arXiv:1111.6097] if you use this package\n",
      "# for scientific work and optionally PLB641(2006)57 [hep-ph/0512210].   \n",
      "#                                                                       \n",
      "# FastJet is provided without warranty under the GNU GPL v2 or higher.  \n",
      "# It uses T. Chan's closest pair algorithm, S. Fortune's Voronoi code,\n",
      "# CGAL and 3rd party plugin jet algorithms. See COPYING file for details.\n",
      "#--------------------------------------------------------------------------\n"
     ]
    },
    {
     "data": {
      "text/plain": [
       "(array([ 17.,   3.,   2.,  24.,  49., 112., 121., 117., 133.,  43.]),\n",
       " array([0.        , 0.04290121, 0.08580241, 0.12870362, 0.17160482,\n",
       "        0.21450603, 0.25740724, 0.30030844, 0.34320965, 0.38611085,\n",
       "        0.42901206]),\n",
       " <BarContainer object of 10 artists>)"
      ]
     },
     "execution_count": 14,
     "metadata": {},
     "output_type": "execute_result"
    },
    {
     "data": {
      "image/png": "[encoded data removed]",
      "text/plain": [
       "<Figure size 640x480 with 1 Axes>"
      ]
     },
     "metadata": {},
     "output_type": "display_data"
    }
   ],
   "source": [
    "plt.hist(n2.compute())"
   ]
  },
  {
   "cell_type": "code",
   "execution_count": 22,
   "id": "a805bd63-1827-4411-9d61-8e39170d6d7f",
   "metadata": {},
   "outputs": [
    {
     "data": {
      "text/plain": [
       "(array([263.,  46.,  50., 132.,  96.,  20.,  12.,   4.,   2.,   1.]),\n",
       " array([-1.04218537e-01,  3.06679420e+01,  6.14401025e+01,  9.22122630e+01,\n",
       "         1.22984424e+02,  1.53756584e+02,  1.84528745e+02,  2.15300905e+02,\n",
       "         2.46073066e+02,  2.76845226e+02,  3.07617387e+02]),\n",
       " <BarContainer object of 10 artists>)"
      ]
     },
     "execution_count": 22,
     "metadata": {},
     "output_type": "execute_result"
    },
    {
     "data": {
      "image/png": "[encoded data removed]",
      "text/plain": [
       "<Figure size 640x480 with 1 Axes>"
      ]
     },
     "metadata": {},
     "output_type": "display_data"
    }
   ],
   "source": [
    "plt.hist(softdrop_zcut10_beta0.compute().msoftdrop)"
   ]
  },
  {
   "cell_type": "code",
   "execution_count": null,
   "id": "450b39df-d2b6-4282-801a-5ffd2135e190",
   "metadata": {},
   "outputs": [],
   "source": []
  }
 ],
 "metadata": {
  "kernelspec": {
   "display_name": "Python 3 (ipykernel)",
   "language": "python",
   "name": "python3"
  },
  "language_info": {
   "codemirror_mode": {
    "name": "ipython",
    "version": 3
   },
   "file_extension": ".py",
   "mimetype": "text/x-python",
   "name": "python",
   "nbconvert_exporter": "python",
   "pygments_lexer": "ipython3",
   "version": "3.12.3"
  }
 },
 "nbformat": 4,
 "nbformat_minor": 5
}
